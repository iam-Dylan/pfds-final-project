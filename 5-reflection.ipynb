{
 "cells": [
  {
   "cell_type": "markdown",
   "metadata": {},
   "source": [
    "<div style=\"text-align: center; background-color: #5A96E3; font-family: 'Trebuchet MS', Arial, sans-serif; color: white; padding: 20px; font-size: 40px; font-weight: bold; border-radius: 0 0 0 0; box-shadow: 0px 6px 8px rgba(0, 0, 0, 0.2);\">\n",
    "  Stage 05 - Reflection\n",
    "</div>"
   ]
  },
  {
   "cell_type": "markdown",
   "metadata": {},
   "source": [
    "**Difficulties and lessons learned**"
   ]
  },
  {
   "cell_type": "markdown",
   "metadata": {},
   "source": [
    "| Thành viên | What difficulties have you encountered? | What have you learned? |\n",
    "| :--- | :--- | :--- |\n",
    "| Phạm Nhật Duy | - Chủ đề sức khỏe tinh thần tương đối thử thách trong quá trình tìm kiếm tập dữ liệu phù hợp.<br> - Tập dữ liệu có số lượng thuộc tính khá lớn (67), quá trình phân tích và tiền xử lý gặp phải nhiều vấn đề cần giải quyết.<br> - Do dữ liệu thu thập dựa trên 1 bài khảo sát, nên trong quá trình phân tích cần sự kết hợp nhiều thuộc tính mới có thể đưa ra được kết luận có giá trị và ý nghĩa. | - Cần tham khảo những bài báo, nghiên cứu về chủ đề bản thân quan tâm trước khi đi tìm kiếm tập dữ liệu.<br> - Nên áp dụng nhiều phương pháp xử lý trong việc làm sạch dữ liệu. |\n",
    "| Trương Công Trung | Chủ yếu đến từ việc phải xác định đúng các yếu tố cần thiết để trả lời câu hỏi mà mình đặt ra, cũng như kiểm tra xem những yếu tố đó đã đủ để thỏa mãn câu hỏi chưa, nếu chưa phải đặt câu hỏi khác cho phù hợp hơn với bộ dữ liệu | - Tìm hiểu và liên kết dữ liệu một cách hợp lý để tạo ra các câu hỏi có nghĩa và có ích. <br> - Có cái nhìn tổng quát và đa chiều về tập data sẽ giúp đỡ cho việc phân tích data rất nhiều|\n",
    "| Nguyễn Đặng Đăng Khoa | - Kiến thức sức khỏe khá rộng nên phải tìm hiểu các nguồn thông tin cần thiết của các định nghĩa liên quan để hiểu dữ liệu, đôi khi nhầm lẫn khiến gặp nhiều khó khăn xác định mối quan hệ giữa các yếu tố cần trực quan hóa dữ liệu.<br> - Quá trình tìm mối liên hệ giữa các đặc trưng và phân tích gặp nhiều khó khăn do tập dữ liệu có số lượng thuộc tính khá lớn (67).<br> - Do dữ liệu thu thập dựa trên 1 bài khảo sát, nên trong quá trình phân tích cần sự kết hợp nhiều thuộc tính mới có thể đưa ra được kết luận có giá trị và ý nghĩa. | - Áp dụng được các kiến thức lý thuyết trên lớp, các bài tập lab vào trong project.<br> - Cách thức đưa ra câu hỏi ý nghĩa để phân tích dữ diệu bám sát mục tiêu của tập dữ liệu. |"
   ]
  },
  {
   "cell_type": "markdown",
   "metadata": {},
   "source": [
    "**If you had more time, what would you do?**\n",
    "- Hiện tại nhóm đang sử dụng tập dữ liệu được thu thập từ năm 2016, trong tương lai nhóm dự định phát triển bài phân tích với nhứng tập dữ liệu gần đây hơn với nhiều thuộc tính và đối tượng hơn để có một cái nhìn chính xác về chủ đề sức khỏe tinh thần trong cuộc sống hiện đại. Việc tìm kiếm những tập dữ liệu này tương đối gặp thử thách, một phần những tập dữ liệu miễn phí từ **Kaggle** chưa được cập nhật thường xuyên, một phần cần trả phí để tiếp cận những tập dữ liệu từ **The World Bank - DataBank**.\n",
    "- Triển khai thêm **các mô hình học máy** - bước đầu cho việc thúc đẩy sự chăm sóc đặc biệt về sức khỏe tinh thần. Các mô hình học máy sẽ được sử dụng để **dự đoán những yếu tố quan trọng**, có tác động trực tiếp và gián tiếp đến sức khỏe tinh thần con người, cũng như có thể dùng để **dự đoán tình hình sức khỏe tinh thần** của một tập thể tại môi trường làm việc của họ. Với những dữ liệu thu được, các nhà tuyển dụng sẽ có thể có những kế hoạch để giúp hỗ trợ cho nhân viên một **môi trường làm việc lành mạnh**, từ đó góp phần **nâng cao năng suất làm việc** của họ. Việc áp dụng và phát triển các phương thức học máy cho chủ đề này cũng sẽ giúp ta có một sự quan tâm hơn về các vấn đề về sức khỏe tinh thần trong tương lai. "
   ]
  }
 ],
 "metadata": {
  "language_info": {
   "name": "python"
  }
 },
 "nbformat": 4,
 "nbformat_minor": 2
}
