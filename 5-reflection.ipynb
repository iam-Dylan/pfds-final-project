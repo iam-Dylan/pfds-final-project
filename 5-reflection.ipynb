{
 "cells": [
  {
   "cell_type": "markdown",
   "metadata": {},
   "source": [
    "<div style=\"text-align: center; background-color: #5A96E3; font-family: 'Trebuchet MS', Arial, sans-serif; color: white; padding: 20px; font-size: 40px; font-weight: bold; border-radius: 0 0 0 0; box-shadow: 0px 6px 8px rgba(0, 0, 0, 0.2);\">\n",
    "  Stage 05 - Reflection\n",
    "</div>"
   ]
  },
  {
   "cell_type": "markdown",
   "metadata": {},
   "source": [
    "**Difficulties and lessons learned**"
   ]
  },
  {
   "cell_type": "markdown",
   "metadata": {},
   "source": [
    "| Tên | What difficulties have you encountered? | What have you learned? |\n",
    "| :--- | :--- | :--- |\n",
    "| Phạm Nhật Duy | - Chủ đề sức khỏe tinh thần tương đối thử thách trong quá trình tìm kiếm tập dữ liệu phù hợp.<br> - Tập dữ liệu có số lượng thuộc tính khá lớn (67), quá trình phân tích và tiền xử lý gặp phải nhiều vấn đề cần giải quyết.<br> - Do dữ liệu thu thập dựa trên 1 bài khảo sát, nên trong quá trình phân tích cần sự kết hợp nhiều thuộc tính mới có thể đưa ra được kết luận có giá trị và ý nghĩa. | - Cần tham khảo những bài báo, nghiên cứu về chủ đề bản thân quan tâm trước khi đi tìm kiếm tập dữ liệu.<br> - Nên áp dụng nhiều phương pháp xử lý trong việc làm sạch dữ liệu. |\n",
    "| Trương Công Trung | Chủ yếu đến từ việc phải xác định đúng các yếu tố cần thiết để trả lời câu hỏi mà mình đặt ra, cũng như kiểm tra xem những yếu tố đó đã đủ để thỏa mãn câu hỏi chưa, nếu chưa phải đặt câu hỏi khác cho phù hợp hơn với bộ dữ liệu | NaN |"
   ]
  },
  {
   "cell_type": "markdown",
   "metadata": {},
   "source": [
    "**If you had more time, what would you do?**\n",
    "- Hiện tại nhóm đang sử dụng tập dữ liệu được thu thập từ năm 2006, trong tương lai nhóm dự định phát triển bài phân tích với nhứng tập dữ liệu gần đây hơn với nhiều thuộc tính và đối tượng hơn để có một cái nhìn chính xác về chủ đề sức khỏe tinh thần trong cuộc sống hiện đại. Việc tìm kiếm những tập dữ liệu này tương đối gặp thử thách, một phần những tập dữ liệu miễn phí từ **Kaggle** chưa được cập nhật thường xuyên, một phần cần trả phí để tiếp cận những tập dữ liệu từ **The World Bank - DataBank**."
   ]
  }
 ],
 "metadata": {
  "language_info": {
   "name": "python"
  }
 },
 "nbformat": 4,
 "nbformat_minor": 2
}
