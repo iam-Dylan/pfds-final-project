{
 "cells": [
  {
   "cell_type": "markdown",
   "metadata": {},
   "source": [
    "<div style=\"text-align: center; background-color: #5A96E3; font-family: 'Trebuchet MS', Arial, sans-serif; color: white; padding: 20px; font-size: 40px; font-weight: bold; border-radius: 0 0 0 0; box-shadow: 0px 6px 8px rgba(0, 0, 0, 0.2);\">\n",
    "  Stage 01 - Data collecting\n",
    "</div>"
   ]
  },
  {
   "cell_type": "markdown",
   "metadata": {},
   "source": [
    "**What subject is your data about? What is the source of your data?**"
   ]
  },
  {
   "cell_type": "markdown",
   "metadata": {},
   "source": [
    "+ Nhóm quan tâm đến việc đánh giá cách nhìn nhận sức khỏe tinh thần trong môi trường làm việc công nghệ/CNTT và mức độ phổ biến của một số rối loạn sức khỏe tinh thần thần trong ngành công nghệ. Nhóm sẽ sử dụng dữ liệu này để thúc đẩy trong việc nâng cao nhận thức và cải thiện điều kiện cho những người bị rối loạn sức khỏe tinh thần tại môi trường làm việc liên quan đến CNTT.\n",
    "+ Nguồn dữ liệu: https://www.kaggle.com/datasets/osmi/mental-health-in-tech-survey/data"
   ]
  },
  {
   "cell_type": "markdown",
   "metadata": {},
   "source": [
    "**Do authors of this data allow you to use like this? You can check the data license**"
   ]
  },
  {
   "cell_type": "markdown",
   "metadata": {},
   "source": [
    "+ Tập dữ liệu đã được sự cho phép của tác giả và có thể sử dụng trong mọi trường hợp.\n",
    "+ Giấy phép: `CC BY-SA 4.0`"
   ]
  },
  {
   "cell_type": "markdown",
   "metadata": {},
   "source": [
    "**How did authors collect data?**"
   ]
  },
  {
   "cell_type": "markdown",
   "metadata": {},
   "source": [
    "+ Tác giả tiến hành một cuộc khảo sát và có hơn 1400 câu trả lời, cuộc khảo sát diễn ra năm 2016 nhằm mục đích đo lường thái độ đối với sức khỏe tinh thần tại môi trường làm việc liên quan đến công nghệ và kiểm tra tần suất rối loạn sức khỏe tinh thần ở nhân viên CNTT."
   ]
  }
 ],
 "metadata": {
  "kernelspec": {
   "display_name": "min_ds-env",
   "language": "python",
   "name": "python3"
  },
  "language_info": {
   "codemirror_mode": {
    "name": "ipython",
    "version": 3
   },
   "file_extension": ".py",
   "mimetype": "text/x-python",
   "name": "python",
   "nbconvert_exporter": "python",
   "pygments_lexer": "ipython3",
   "version": "3.10.8"
  }
 },
 "nbformat": 4,
 "nbformat_minor": 2
}
